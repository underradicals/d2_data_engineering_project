{
 "cells": [
  {
   "cell_type": "code",
   "execution_count": 1,
   "id": "75022f37",
   "metadata": {},
   "outputs": [
    {
     "name": "stderr",
     "output_type": "stream",
     "text": [
      "WARNING: Using incubator modules: jdk.incubator.vector\n",
      "SLF4J(W): Class path contains multiple SLF4J providers.\n",
      "SLF4J(W): Found provider [org.apache.logging.slf4j.SLF4JServiceProvider@73a1e9a9]\n",
      "SLF4J(W): Found provider [org.slf4j.reload4j.Reload4jServiceProvider@71d44a3]\n",
      "SLF4J(W): See https://www.slf4j.org/codes.html#multiple_bindings for an explanation.\n",
      "SLF4J(I): Actual provider is of type [org.apache.logging.slf4j.SLF4JServiceProvider@73a1e9a9]\n",
      "Using Spark's default log4j profile: org/apache/spark/log4j2-defaults.properties\n",
      "25/09/23 10:00:26 WARN Utils: Your hostname, underradicals, resolves to a loopback address: 127.0.1.1; using 10.255.255.254 instead (on interface lo)\n",
      "25/09/23 10:00:26 WARN Utils: Set SPARK_LOCAL_IP if you need to bind to another address\n",
      "Using Spark's default log4j profile: org/apache/spark/log4j2-defaults.properties\n",
      "Setting default log level to \"WARN\".\n",
      "To adjust logging level use sc.setLogLevel(newLevel). For SparkR, use setLogLevel(newLevel).\n",
      "25/09/23 10:00:27 WARN NativeCodeLoader: Unable to load native-hadoop library for your platform... using builtin-java classes where applicable\n"
     ]
    }
   ],
   "source": [
    "from pyspark.sql import SparkSession\n",
    "\n",
    "spark = (SparkSession.builder.appName(\"d2-data-pipeline\")\n",
    ".getOrCreate())"
   ]
  }
 ],
 "metadata": {
  "kernelspec": {
   "display_name": ".venv (3.12.3)",
   "language": "python",
   "name": "python3"
  },
  "language_info": {
   "codemirror_mode": {
    "name": "ipython",
    "version": 3
   },
   "file_extension": ".py",
   "mimetype": "text/x-python",
   "name": "python",
   "nbconvert_exporter": "python",
   "pygments_lexer": "ipython3",
   "version": "3.12.3"
  }
 },
 "nbformat": 4,
 "nbformat_minor": 5
}
